{
 "cells": [
  {
   "cell_type": "markdown",
   "metadata": {},
   "source": [
    "# HW3 - Q3 [35 pts]"
   ]
  },
  {
   "cell_type": "markdown",
   "metadata": {},
   "source": [
    "## Important Notices\n",
    "\n",
    "<div class=\"alert alert-block alert-danger\">\n",
    "    WARNING: Do <strong>NOT</strong> add any cells to this Jupyter Notebook, because that will crash the autograder.\n",
    "</div>\n",
    "\n",
    "<div class=\"alert alert-block alert-danger\">\n",
    "    WARNING: Do <strong>NOT</strong> implement any additional libraries into this workbook.\n",
    "</div>\n",
    "\n",
    "All instructions, code comments, etc. in this notebook **are part of the assignment instructions**. That is, if there is instructions about completing a task in this notebook, that task is not optional.  \n",
    "\n",
    "<div class=\"alert alert-block alert-info\">\n",
    "    You <strong>must</strong> implement the following functions in this notebook to receive credit.\n",
    "</div>\n",
    "\n",
    "`user()`\n",
    "\n",
    "`bucket()`\n",
    "\n",
    "`long_trips()`\n",
    "\n",
    "`manhattan_trips()`\n",
    "\n",
    "`weighted_profit()`\n",
    "\n",
    "`final_output()`\n",
    "\n",
    "Each method will be auto-graded using different sets of parameters or data, to ensure that values are not hard-coded.  You may assume we will only use your code to work with data from the NYC-TLC dataset during auto-grading.\n",
    "\n",
    "<div class=\"alert alert-block alert-danger\">\n",
    "    WARNING: Do <strong>NOT</strong> remove or modify the following utility functions:\n",
    "</div>\n",
    "\n",
    "`load_data()`\n",
    "\n",
    "`main()`"
   ]
  },
  {
   "cell_type": "markdown",
   "metadata": {},
   "source": [
    "<div class=\"alert alert-block alert-info\">\n",
    "    Do <strong>not</strong> change the below cell. Run it to initialize your PySpark instance.\n",
    "</div>"
   ]
  },
  {
   "cell_type": "code",
   "execution_count": 1,
   "metadata": {},
   "outputs": [
    {
     "data": {
      "application/vnd.jupyter.widget-view+json": {
       "model_id": "7899e85d16de4b069b115fd3a86f445d",
       "version_major": 2,
       "version_minor": 0
      },
      "text/plain": [
       "VBox()"
      ]
     },
     "metadata": {},
     "output_type": "display_data"
    },
    {
     "name": "stdout",
     "output_type": "stream",
     "text": [
      "Starting Spark application\n"
     ]
    },
    {
     "data": {
      "text/html": [
       "<table>\n",
       "<tr><th>ID</th><th>YARN Application ID</th><th>Kind</th><th>State</th><th>Spark UI</th><th>Driver log</th><th>Current session?</th></tr><tr><td>1</td><td>application_1603419756885_0002</td><td>pyspark</td><td>idle</td><td><a target=\"_blank\" href=\"http://ip-172-31-87-232.ec2.internal:20888/proxy/application_1603419756885_0002/\">Link</a></td><td><a target=\"_blank\" href=\"http://ip-172-31-82-60.ec2.internal:8042/node/containerlogs/container_1603419756885_0002_01_000001/livy\">Link</a></td><td>✔</td></tr></table>"
      ],
      "text/plain": [
       "<IPython.core.display.HTML object>"
      ]
     },
     "metadata": {},
     "output_type": "display_data"
    },
    {
     "data": {
      "application/vnd.jupyter.widget-view+json": {
       "model_id": "",
       "version_major": 2,
       "version_minor": 0
      },
      "text/plain": [
       "FloatProgress(value=0.0, bar_style='info', description='Progress:', layout=Layout(height='25px', width='50%'),…"
      ]
     },
     "metadata": {},
     "output_type": "display_data"
    },
    {
     "name": "stdout",
     "output_type": "stream",
     "text": [
      "SparkSession available as 'spark'.\n"
     ]
    },
    {
     "data": {
      "application/vnd.jupyter.widget-view+json": {
       "model_id": "",
       "version_major": 2,
       "version_minor": 0
      },
      "text/plain": [
       "FloatProgress(value=0.0, bar_style='info', description='Progress:', layout=Layout(height='25px', width='50%'),…"
      ]
     },
     "metadata": {},
     "output_type": "display_data"
    },
    {
     "name": "stdout",
     "output_type": "stream",
     "text": [
      "<SparkContext master=yarn appName=livy-session-1>"
     ]
    }
   ],
   "source": [
    "sc"
   ]
  },
  {
   "cell_type": "markdown",
   "metadata": {},
   "source": [
    "<div class=\"alert alert-block alert-danger\">\n",
    "    WARNING: Do <strong>NOT</strong> remodify the below cell. It contains the function for loading data and all imports, and the function for running your code.\n",
    "</div>"
   ]
  },
  {
   "cell_type": "code",
   "execution_count": 67,
   "metadata": {},
   "outputs": [
    {
     "data": {
      "application/vnd.jupyter.widget-view+json": {
       "model_id": "d26ebd57843e4f9694add263d37333a6",
       "version_major": 2,
       "version_minor": 0
      },
      "text/plain": [
       "VBox()"
      ]
     },
     "metadata": {},
     "output_type": "display_data"
    },
    {
     "data": {
      "application/vnd.jupyter.widget-view+json": {
       "model_id": "",
       "version_major": 2,
       "version_minor": 0
      },
      "text/plain": [
       "FloatProgress(value=0.0, bar_style='info', description='Progress:', layout=Layout(height='25px', width='50%'),…"
      ]
     },
     "metadata": {},
     "output_type": "display_data"
    }
   ],
   "source": [
    "#### DO NOT CHANGE ANYTHING IN THIS CELL ####\n",
    "\n",
    "from pyspark.sql.functions import col\n",
    "\n",
    "def load_data(size='small'):\n",
    "    # Loads the data for this question. Do not change this function.\n",
    "    # This function should only be called with the parameter 'small' or 'large'\n",
    "    \n",
    "    if size != 'small' and size != 'large':\n",
    "        print(\"Invalid size parameter provided. Use only 'small' or 'large'.\")\n",
    "        return\n",
    "    \n",
    "    input_bucket = \"s3://fall2020-cse6242\"\n",
    "    \n",
    "    # Load Trip Data\n",
    "    trip_path = '/'+size+'/yellow_tripdata*'\n",
    "    trips = spark.read.csv(input_bucket + trip_path, header=True, inferSchema=True)\n",
    "    print(\"Trip Count: \",trips.count()) # Prints # of trips (# of records, as each record is one trip)\n",
    "    \n",
    "    # Load Lookup Data\n",
    "    lookup_path = '/'+size+'/taxi*'\n",
    "    lookup = spark.read.csv(input_bucket + lookup_path, header=True, inferSchema=True)\n",
    "    \n",
    "    return trips, lookup\n",
    "\n",
    "def main(size, bucket):\n",
    "    # Runs your functions implemented above.\n",
    "    \n",
    "    print(user())\n",
    "    trips, lookup = load_data(size=size)\n",
    "    trips = long_trips(trips)\n",
    "    mtrips = manhattan_trips(trips, lookup)\n",
    "    wp = weighted_profit(trips, mtrips)\n",
    "    final = final_output(wp,lookup)\n",
    "    \n",
    "    # Outputs the results for you to visually see\n",
    "    final.show()\n",
    "    \n",
    "    # Writes out as a CSV to your bucket.\n",
    "    final.write.csv(bucket)"
   ]
  },
  {
   "cell_type": "markdown",
   "metadata": {},
   "source": [
    "# Implement the below functions for this assignment:\n",
    "<div class=\"alert alert-block alert-danger\">\n",
    "    WARNING: Do <strong>NOT</strong> change any function inputs or outputs, and ensure that the dataframes your code returns align with the schema definitions commented in each function\n",
    "</div>"
   ]
  },
  {
   "cell_type": "markdown",
   "metadata": {},
   "source": [
    "## 3a. [1 pt] Update the `user()` function\n",
    "This function should return your GT username, eg: gburdell3"
   ]
  },
  {
   "cell_type": "code",
   "execution_count": 5,
   "metadata": {},
   "outputs": [
    {
     "data": {
      "application/vnd.jupyter.widget-view+json": {
       "model_id": "6889ba2b7e5341e5bd7803871fec9c5c",
       "version_major": 2,
       "version_minor": 0
      },
      "text/plain": [
       "VBox()"
      ]
     },
     "metadata": {},
     "output_type": "display_data"
    },
    {
     "data": {
      "application/vnd.jupyter.widget-view+json": {
       "model_id": "",
       "version_major": 2,
       "version_minor": 0
      },
      "text/plain": [
       "FloatProgress(value=0.0, bar_style='info', description='Progress:', layout=Layout(height='25px', width='50%'),…"
      ]
     },
     "metadata": {},
     "output_type": "display_data"
    }
   ],
   "source": [
    "def user():\n",
    "    # Returns a string consisting of your GT username.\n",
    "    return 'slad8'"
   ]
  },
  {
   "cell_type": "markdown",
   "metadata": {},
   "source": [
    "## 3b. [2 pts] Update the `long_trips()` function\n",
    "This function filters trips to keep only trips longer than 2 miles."
   ]
  },
  {
   "cell_type": "code",
   "execution_count": 59,
   "metadata": {},
   "outputs": [
    {
     "data": {
      "application/vnd.jupyter.widget-view+json": {
       "model_id": "f959cc56fece4892bfdc19aace7d4803",
       "version_major": 2,
       "version_minor": 0
      },
      "text/plain": [
       "VBox()"
      ]
     },
     "metadata": {},
     "output_type": "display_data"
    },
    {
     "data": {
      "application/vnd.jupyter.widget-view+json": {
       "model_id": "",
       "version_major": 2,
       "version_minor": 0
      },
      "text/plain": [
       "FloatProgress(value=0.0, bar_style='info', description='Progress:', layout=Layout(height='25px', width='50%'),…"
      ]
     },
     "metadata": {},
     "output_type": "display_data"
    }
   ],
   "source": [
    "def long_trips(trips):\n",
    "    # Returns a Dataframe with Schema the same as :trips:\n",
    "    dftb = trips.filter(col(\"trip_distance\") >= 2.0)\n",
    "    dftb = dftb.withColumn(\"passenger_count\", dftb[\"passenger_count\"].cast(\"integer\"))\n",
    "    return dftb"
   ]
  },
  {
   "cell_type": "markdown",
   "metadata": {},
   "source": [
    "## 3c. [6 pts] Update the `manhattan_trips()` function\n",
    "\n",
    "This function determines the top 20 locations with a `DOLocationID` in manhattan by passenger_count (pcount).\n",
    "\n",
    "Example output formatting:\n",
    "\n",
    "```\n",
    "+--------------+--------+\n",
    "| DOLocationID | pcount |\n",
    "+--------------+--------+\n",
    "|             5|      15|\n",
    "|            16|      12| \n",
    "+--------------+--------+\n",
    "```"
   ]
  },
  {
   "cell_type": "code",
   "execution_count": 46,
   "metadata": {},
   "outputs": [
    {
     "data": {
      "application/vnd.jupyter.widget-view+json": {
       "model_id": "dcf4cae262a64560b18fa3ef976f2bee",
       "version_major": 2,
       "version_minor": 0
      },
      "text/plain": [
       "VBox()"
      ]
     },
     "metadata": {},
     "output_type": "display_data"
    },
    {
     "data": {
      "application/vnd.jupyter.widget-view+json": {
       "model_id": "",
       "version_major": 2,
       "version_minor": 0
      },
      "text/plain": [
       "FloatProgress(value=0.0, bar_style='info', description='Progress:', layout=Layout(height='25px', width='50%'),…"
      ]
     },
     "metadata": {},
     "output_type": "display_data"
    }
   ],
   "source": [
    "def manhattan_trips(trips, lookup):\n",
    "    # Returns a Dataframe with Schema: DOLocationID, pcount\n",
    "    \n",
    "    faun = trips.join(lookup, trips[\"DOLocationID\"] == lookup[\"LocationID\"], \"inner\").filter(col(\"Borough\") == \"Manhattan\")\n",
    "    faun = faun.groupBy([\"DOLocationID\"]).sum(\"passenger_count\").withColumnRenamed(\"sum(passenger_count)\", \"pcount\").orderBy(\"pcount\", ascending = 0)\n",
    "    \n",
    "    faun = faun.limit(20)\n",
    "    return faun"
   ]
  },
  {
   "cell_type": "markdown",
   "metadata": {},
   "source": [
    "## 3d. [6 pts] Update the `weighted_profit()` function\n",
    "This function should determine the average `total_amount`, the total count of trips, and the total count of trips ending in the top 20 destinations and return the `weighted_profit` as discussed in the homework document.\n",
    "\n",
    "Example output formatting:\n",
    "```\n",
    "+--------------+-------------------+\n",
    "| PULocationID |  weighted_profit  |\n",
    "+--------------+-------------------+\n",
    "|            18| 33.784444421924436| \n",
    "|            12| 21.124577637149223| \n",
    "+--------------+-------------------+\n",
    "```"
   ]
  },
  {
   "cell_type": "code",
   "execution_count": 8,
   "metadata": {},
   "outputs": [
    {
     "data": {
      "application/vnd.jupyter.widget-view+json": {
       "model_id": "54bbabe75694404a87bbd34df108ac6a",
       "version_major": 2,
       "version_minor": 0
      },
      "text/plain": [
       "VBox()"
      ]
     },
     "metadata": {},
     "output_type": "display_data"
    },
    {
     "data": {
      "application/vnd.jupyter.widget-view+json": {
       "model_id": "",
       "version_major": 2,
       "version_minor": 0
      },
      "text/plain": [
       "FloatProgress(value=0.0, bar_style='info', description='Progress:', layout=Layout(height='25px', width='50%'),…"
      ]
     },
     "metadata": {},
     "output_type": "display_data"
    }
   ],
   "source": [
    "def weighted_profit(trips, mtrips): \n",
    "    # Returns a Dataframe with Schema: PULocationID, weighted_profit\n",
    "    \n",
    "    # getting count of trips\n",
    "    \n",
    "    partAvg = trips.groupBy([\"PULocationID\"]).agg({\"total_amount\":'avg'})\n",
    "    \n",
    "    partDen = trips.groupBy([\"PULocationID\"]).count()\n",
    "    \n",
    "    \n",
    "    partnumo = trips.groupBy([\"PULocationID\", \"DOLocationID\"]).count()\n",
    "    \n",
    "    balse = trips.withColumnRenamed(\"DOLocationID\", \"DOL\")\n",
    "    \n",
    "    partncom = balse.join(mtrips, balse[\"DOL\"] == mtrips[\"DOLocationID\"], \"right\")\n",
    "    \n",
    "    countmse = partncom.groupBy([\"PULocationID\"]).count()\n",
    "    \n",
    "    ctmse = countmse.drop(\"count\")\n",
    "    \n",
    "    \n",
    "    partAvgT = partAvg.withColumnRenamed(\"PULocationID\", \"POL\")\n",
    "    \n",
    "    partDenT = partDen.withColumnRenamed(\"PULocationID\", \"POLM\")\n",
    "    \n",
    "    firstjoin = partAvgT.join(partDenT, partAvgT[\"POL\"] == partDenT[\"POLM\"], \"inner\").drop(\"POLM\")\n",
    "    \n",
    "    ########################\n",
    "    \n",
    "    \n",
    "    partfamm = trips.groupBy([\"PULocationID\", \"DOLocationID\"]).count()\n",
    "    \n",
    "    partfar = partfamm.withColumnRenamed(\"DOLocationID\", \"DOL\")\n",
    "    \n",
    "    joined = mtrips.join(partfar, mtrips[\"DOLocationID\"] == partfar[\"DOL\"], \"inner\")\n",
    "    \n",
    "    \n",
    "    joinCount = joined.groupBy([\"PULocationID\"]).sum(\"count\")\n",
    "    \n",
    "\n",
    "    \n",
    "    joiners = ctmse.join(firstjoin, ctmse[\"PULocationID\"] == firstjoin[\"POL\"]).drop(\"PULocationID\")\n",
    "    \n",
    "    joiner = joiners.withColumnRenamed(\"count\", \"conum\")\n",
    "    \n",
    "    joinerLast = joinCount.join(joiner, joinCount[\"PULocationID\"] == joiner[\"POL\"]).drop(\"POL\")\n",
    "    \n",
    "    factAdd = joinerLast.withColumn(\"factor\", joinerLast[\"sum(count)\"]/joinerLast[\"conum\"])\n",
    "    \n",
    "    mutlip = factAdd.withColumn(\"weighted_profit\", factAdd[\"factor\"] * factAdd[\"avg(total_amount)\"])\n",
    "    \n",
    "    \n",
    "    \n",
    "    baller = mutlip.select(mutlip[\"PULocationID\"], mutlip[\"weighted_profit\"])\n",
    "    \n",
    "    \n",
    "    \n",
    "    return baller\n",
    "    \n",
    " "
   ]
  },
  {
   "cell_type": "markdown",
   "metadata": {},
   "source": [
    "## 3e. [5 pts] Update the `final_output()` function\n",
    "This function will take the results of `weighted_profit`, links it to the `borough` and `zone` and returns the top 20 locations with the highest `weighted_profit`.\n",
    "\n",
    "Example output formatting:\n",
    "```\n",
    "+------------+---------+-------------------+\n",
    "|    Zone    | Borough |  weighted_profit  |\n",
    "+----------------------+-------------------+\n",
    "| JFK Airport|   Queens|  16.95897820117925|\n",
    "|     Jamaica|   Queens| 14.879835188762488|\n",
    "+------------+---------+-------------------+\n",
    "```"
   ]
  },
  {
   "cell_type": "code",
   "execution_count": 58,
   "metadata": {},
   "outputs": [
    {
     "data": {
      "application/vnd.jupyter.widget-view+json": {
       "model_id": "02871264b4894397aaeddc41b516081c",
       "version_major": 2,
       "version_minor": 0
      },
      "text/plain": [
       "VBox()"
      ]
     },
     "metadata": {},
     "output_type": "display_data"
    },
    {
     "data": {
      "application/vnd.jupyter.widget-view+json": {
       "model_id": "",
       "version_major": 2,
       "version_minor": 0
      },
      "text/plain": [
       "FloatProgress(value=0.0, bar_style='info', description='Progress:', layout=Layout(height='25px', width='50%'),…"
      ]
     },
     "metadata": {},
     "output_type": "display_data"
    }
   ],
   "source": [
    "def final_output(calc, lookup): \n",
    "    # Returns a Dataframe with Schema: Zone, Borough, weighted_profit\n",
    "    \n",
    "    partr = calc.join(lookup, lookup[\"LocationID\"] == calc[\"PULocationID\"], \"inner\")\n",
    "    \n",
    "    patty = partr.select(\"Zone\", \"Borough\", \"weighted_profit\").orderBy(\"weighted_profit\", ascending = 0).limit(20)\n",
    "    \n",
    "    return patty"
   ]
  },
  {
   "cell_type": "markdown",
   "metadata": {},
   "source": [
    "<div class=\"alert alert-block alert-info\">\n",
    "    Test your code on the small dataset first, as the large dataset will take a significantly longer time to run\n",
    "</div>\n",
    "\n",
    "<div class=\"alert alert-block alert-danger\">\n",
    "    WARNING: Do <strong>NOT</strong> use the same bucket url for multiple runs of the `main()` function, as this will cause errors. Make sure to change the name of your output location every time. (ie: s3://cse6242-gburdell3/output-small2)\n",
    "</div>\n",
    "\n",
    "Update the below cell with the address to your bucket, then run the below cell to run your code to store the results in S3.\n",
    "\n",
    "When you have confirmed the results of the small dataset, run it again using the large dataset. Your output file will appear ina folder in your s3 bucket called YOUROUTPUT.csv as a csv file with a name something like part-0000-4d992f7a-0ad3-48f8-8c72-0022984e4b50-c000.csv. Download this file and rename it to q3_output.csv for submission. Do not make any other changes to the file. "
   ]
  },
  {
   "cell_type": "code",
   "execution_count": 64,
   "metadata": {},
   "outputs": [
    {
     "data": {
      "application/vnd.jupyter.widget-view+json": {
       "model_id": "413b806c8cca4e93a75d668618184d3c",
       "version_major": 2,
       "version_minor": 0
      },
      "text/plain": [
       "VBox()"
      ]
     },
     "metadata": {},
     "output_type": "display_data"
    },
    {
     "data": {
      "application/vnd.jupyter.widget-view+json": {
       "model_id": "",
       "version_major": 2,
       "version_minor": 0
      },
      "text/plain": [
       "FloatProgress(value=0.0, bar_style='info', description='Progress:', layout=Layout(height='25px', width='50%'),…"
      ]
     },
     "metadata": {},
     "output_type": "display_data"
    },
    {
     "name": "stdout",
     "output_type": "stream",
     "text": [
      "slad8\n",
      "Trip Count:  187203269\n",
      "+--------------------+-------------+------------------+\n",
      "|                Zone|      Borough|   weighted_profit|\n",
      "+--------------------+-------------+------------------+\n",
      "|        Baisley Park|       Queens| 29.36045577913085|\n",
      "|Flushing Meadows-...|       Queens|27.304845733617668|\n",
      "|       South Jamaica|       Queens|26.294916239873476|\n",
      "|     Randalls Island|    Manhattan|24.150989940227525|\n",
      "|        Astoria Park|       Queens|21.706417112147516|\n",
      "|Briarwood/Jamaica...|       Queens| 19.94506463178934|\n",
      "|Springfield Garde...|       Queens|19.468309288781903|\n",
      "|             Jamaica|       Queens|19.283943000137903|\n",
      "|              Corona|       Queens|18.228769248155974|\n",
      "|   LaGuardia Airport|       Queens|18.181338808372995|\n",
      "|         Jamaica Bay|       Queens|17.100529446757896|\n",
      "|             Maspeth|       Queens|17.005450640079545|\n",
      "|Eltingville/Annad...|Staten Island|16.837764756944445|\n",
      "|         JFK Airport|       Queens| 16.77772534824964|\n",
      "|        Battery Park|    Manhattan|12.849780311142869|\n",
      "| Morningside Heights|    Manhattan|12.453698026584076|\n",
      "|   Battery Park City|    Manhattan|12.448848404428603|\n",
      "|Greenwich Village...|    Manhattan|12.446949891694034|\n",
      "|       Rikers Island|        Bronx|           12.3063|\n",
      "|  World Trade Center|    Manhattan|12.295411924133376|\n",
      "+--------------------+-------------+------------------+"
     ]
    }
   ],
   "source": [
    "bucket = 's3://cse6242-slad8/output-large10'\n",
    "# main('small',bucket)\n",
    "main('large', bucket)"
   ]
  },
  {
   "cell_type": "markdown",
   "metadata": {},
   "source": [
    "#### Testing\n",
    "\n",
    "<div class=\"alert alert-block alert-info\">\n",
    "    You may use the below cell for any additional testing you need to do, however any code implemented below will not be run or used when grading\n",
    "</div>"
   ]
  },
  {
   "cell_type": "code",
   "execution_count": 68,
   "metadata": {},
   "outputs": [
    {
     "data": {
      "application/vnd.jupyter.widget-view+json": {
       "model_id": "c90a3a2631f646718780a01ad0843985",
       "version_major": 2,
       "version_minor": 0
      },
      "text/plain": [
       "VBox()"
      ]
     },
     "metadata": {},
     "output_type": "display_data"
    },
    {
     "data": {
      "application/vnd.jupyter.widget-view+json": {
       "model_id": "",
       "version_major": 2,
       "version_minor": 0
      },
      "text/plain": [
       "FloatProgress(value=0.0, bar_style='info', description='Progress:', layout=Layout(height='25px', width='50%'),…"
      ]
     },
     "metadata": {},
     "output_type": "display_data"
    },
    {
     "name": "stdout",
     "output_type": "stream",
     "text": [
      "Trip Count:  187203269"
     ]
    }
   ],
   "source": [
    "trips, lookup = load_data(size=\"large\")\n"
   ]
  },
  {
   "cell_type": "code",
   "execution_count": 69,
   "metadata": {},
   "outputs": [
    {
     "data": {
      "application/vnd.jupyter.widget-view+json": {
       "model_id": "2becbead429c467b850079c3673ed93c",
       "version_major": 2,
       "version_minor": 0
      },
      "text/plain": [
       "VBox()"
      ]
     },
     "metadata": {},
     "output_type": "display_data"
    },
    {
     "data": {
      "application/vnd.jupyter.widget-view+json": {
       "model_id": "",
       "version_major": 2,
       "version_minor": 0
      },
      "text/plain": [
       "FloatProgress(value=0.0, bar_style='info', description='Progress:', layout=Layout(height='25px', width='50%'),…"
      ]
     },
     "metadata": {},
     "output_type": "display_data"
    }
   ],
   "source": [
    "trips = long_trips(trips)\n",
    "# mtrips = manhattan_trips(trips, lookup)\n",
    "# m = weighted_profit(trips, mtrips).orderBy(\"weighted_profit\", ascending = 0)\n",
    "# m.show()"
   ]
  },
  {
   "cell_type": "code",
   "execution_count": 70,
   "metadata": {},
   "outputs": [
    {
     "data": {
      "application/vnd.jupyter.widget-view+json": {
       "model_id": "525b303a514d4032b6a000890b47f060",
       "version_major": 2,
       "version_minor": 0
      },
      "text/plain": [
       "VBox()"
      ]
     },
     "metadata": {},
     "output_type": "display_data"
    },
    {
     "data": {
      "application/vnd.jupyter.widget-view+json": {
       "model_id": "",
       "version_major": 2,
       "version_minor": 0
      },
      "text/plain": [
       "FloatProgress(value=0.0, bar_style='info', description='Progress:', layout=Layout(height='25px', width='50%'),…"
      ]
     },
     "metadata": {},
     "output_type": "display_data"
    }
   ],
   "source": [
    "mtrips = manhattan_trips(trips, lookup)"
   ]
  },
  {
   "cell_type": "code",
   "execution_count": null,
   "metadata": {},
   "outputs": [],
   "source": []
  },
  {
   "cell_type": "code",
   "execution_count": 71,
   "metadata": {},
   "outputs": [
    {
     "data": {
      "application/vnd.jupyter.widget-view+json": {
       "model_id": "ec7311e1510c40da918ff40a07bbffa4",
       "version_major": 2,
       "version_minor": 0
      },
      "text/plain": [
       "VBox()"
      ]
     },
     "metadata": {},
     "output_type": "display_data"
    },
    {
     "data": {
      "application/vnd.jupyter.widget-view+json": {
       "model_id": "",
       "version_major": 2,
       "version_minor": 0
      },
      "text/plain": [
       "FloatProgress(value=0.0, bar_style='info', description='Progress:', layout=Layout(height='25px', width='50%'),…"
      ]
     },
     "metadata": {},
     "output_type": "display_data"
    }
   ],
   "source": [
    "m = weighted_profit(trips, mtrips)"
   ]
  },
  {
   "cell_type": "code",
   "execution_count": 72,
   "metadata": {},
   "outputs": [
    {
     "data": {
      "application/vnd.jupyter.widget-view+json": {
       "model_id": "abf5347da61348b0a1be6c0e788df1c9",
       "version_major": 2,
       "version_minor": 0
      },
      "text/plain": [
       "VBox()"
      ]
     },
     "metadata": {},
     "output_type": "display_data"
    },
    {
     "data": {
      "application/vnd.jupyter.widget-view+json": {
       "model_id": "",
       "version_major": 2,
       "version_minor": 0
      },
      "text/plain": [
       "FloatProgress(value=0.0, bar_style='info', description='Progress:', layout=Layout(height='25px', width='50%'),…"
      ]
     },
     "metadata": {},
     "output_type": "display_data"
    }
   ],
   "source": [
    "w = final_output(m, lookup)"
   ]
  },
  {
   "cell_type": "code",
   "execution_count": 73,
   "metadata": {},
   "outputs": [
    {
     "data": {
      "application/vnd.jupyter.widget-view+json": {
       "model_id": "a24c77517bfc402c847e08795b295ddb",
       "version_major": 2,
       "version_minor": 0
      },
      "text/plain": [
       "VBox()"
      ]
     },
     "metadata": {},
     "output_type": "display_data"
    },
    {
     "data": {
      "application/vnd.jupyter.widget-view+json": {
       "model_id": "",
       "version_major": 2,
       "version_minor": 0
      },
      "text/plain": [
       "FloatProgress(value=0.0, bar_style='info', description='Progress:', layout=Layout(height='25px', width='50%'),…"
      ]
     },
     "metadata": {},
     "output_type": "display_data"
    }
   ],
   "source": [
    "bucket = 's3://cse6242-slad8/output-large10'\n",
    "w.write.csv(bucket)"
   ]
  },
  {
   "cell_type": "code",
   "execution_count": null,
   "metadata": {},
   "outputs": [
    {
     "data": {
      "application/vnd.jupyter.widget-view+json": {
       "model_id": "325021126dfa48a8a69de98c14ffa959",
       "version_major": 2,
       "version_minor": 0
      },
      "text/plain": [
       "VBox()"
      ]
     },
     "metadata": {},
     "output_type": "display_data"
    },
    {
     "data": {
      "application/vnd.jupyter.widget-view+json": {
       "model_id": "4c15db1c44fb4938820ea391fe5d3812",
       "version_major": 2,
       "version_minor": 0
      },
      "text/plain": [
       "FloatProgress(value=0.0, bar_style='info', description='Progress:', layout=Layout(height='25px', width='50%'),…"
      ]
     },
     "metadata": {},
     "output_type": "display_data"
    }
   ],
   "source": [
    "w.show()"
   ]
  },
  {
   "cell_type": "code",
   "execution_count": null,
   "metadata": {},
   "outputs": [],
   "source": []
  }
 ],
 "metadata": {
  "kernelspec": {
   "display_name": "PySpark",
   "language": "",
   "name": "pysparkkernel"
  },
  "language_info": {
   "codemirror_mode": {
    "name": "python",
    "version": 2
   },
   "mimetype": "text/x-python",
   "name": "pyspark",
   "pygments_lexer": "python2"
  }
 },
 "nbformat": 4,
 "nbformat_minor": 4
}
